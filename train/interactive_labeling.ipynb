{
 "cells": [
  {
   "cell_type": "code",
   "execution_count": null,
   "id": "52669569-ca2b-4075-8692-5e92fc3fb307",
   "metadata": {
    "tags": []
   },
   "outputs": [],
   "source": [
    "import ipywidgets as widgets\n",
    "from IPython.display import display\n",
    "from pathlib import Path\n",
    "import pickle\n",
    "from time import localtime, strftime"
   ]
  },
  {
   "cell_type": "code",
   "execution_count": null,
   "id": "f116eee1-b57d-46d3-b893-ea2fd33c8ee9",
   "metadata": {
    "tags": []
   },
   "outputs": [],
   "source": [
    "pngdir = 'preprocessed_png'\n",
    "wildcard = '*.png'\n",
    "mic_list = sorted(list(Path(pngdir).glob(wildcard)))\n",
    "label_dict = {}\n",
    "label_dict_name_prefix = ''"
   ]
  },
  {
   "cell_type": "code",
   "execution_count": null,
   "id": "15b61b9a-14b7-4a0d-919a-f7e316d78c40",
   "metadata": {
    "tags": []
   },
   "outputs": [],
   "source": [
    "def read_png(file):\n",
    "    with open(file, \"rb\") as image:\n",
    "        f = image.read()\n",
    "        b = bytearray(f)\n",
    "    return b"
   ]
  },
  {
   "cell_type": "code",
   "execution_count": null,
   "id": "a5a28ea7-1708-4500-a17f-1c9e0b365e10",
   "metadata": {
    "tags": []
   },
   "outputs": [],
   "source": [
    "def update_label():\n",
    "    global rad_buttons\n",
    "    ori_mic_name = mic_list[mic_index].name.replace('.png','.mrc')\n",
    "    feature_list = [but.value for but in rad_buttons]\n",
    "    label_dict[ori_mic_name] = feature_list"
   ]
  },
  {
   "cell_type": "code",
   "execution_count": null,
   "id": "04238e11-88fe-44c8-8739-b150e7d310fc",
   "metadata": {
    "tags": []
   },
   "outputs": [],
   "source": [
    "def retrieve_label():\n",
    "    global rad_buttons\n",
    "    ori_mic_name = mic_list[mic_index].name.replace('.png','.mrc')\n",
    "    if ori_mic_name in label_dict.keys():\n",
    "        feature_list = label_dict[ori_mic_name]\n",
    "    else:\n",
    "        feature_list = ['no_film','no_crack_drift','not_crystalline','minor_contamination']\n",
    "    for but,label in zip(rad_buttons,feature_list): but.value = label"
   ]
  },
  {
   "cell_type": "code",
   "execution_count": null,
   "id": "7776874f-b028-4b2b-9c9f-d9516de77cbf",
   "metadata": {
    "tags": []
   },
   "outputs": [],
   "source": [
    "def prev_mic(b):\n",
    "    global mic_index, mic_widget, progress\n",
    "    update_label()\n",
    "    mic_index -= 1\n",
    "    if mic_index < 0:\n",
    "        mic_index = 0\n",
    "        return\n",
    "    retrieve_label()\n",
    "    mic_widget.value = read_png(mic_list[mic_index])\n",
    "    progress.value = f'Current Micrograph: {mic_index+1} / {len(mic_list)}'"
   ]
  },
  {
   "cell_type": "code",
   "execution_count": null,
   "id": "2bab012f-10b5-40e1-97cf-4a6ac10b9a5e",
   "metadata": {
    "tags": []
   },
   "outputs": [],
   "source": [
    "def next_mic(b):\n",
    "    global mic_index, mic_widget, progress\n",
    "    update_label()\n",
    "    mic_index += 1\n",
    "    if mic_index >= len(mic_list):\n",
    "        mic_index = len(mic_list)-1\n",
    "        return\n",
    "    retrieve_label()\n",
    "    mic_widget.value = read_png(mic_list[mic_index])\n",
    "    progress.value = f'Current Micrograph: {mic_index+1} / {len(mic_list)}'"
   ]
  },
  {
   "cell_type": "code",
   "execution_count": null,
   "id": "5c18a6f6-3dcc-4ec7-ac03-890d326311b9",
   "metadata": {
    "tags": []
   },
   "outputs": [],
   "source": [
    "def save_label(b):\n",
    "    global label_dict_name_prefix\n",
    "    if label_dict_name_prefix != '' and label_dict_name_prefix[-1] != '_': label_dict_name_prefix += '_'\n",
    "    with open(f'{label_dict_name_prefix}label_dict_{len(label_dict)}_{strftime(\"%m_%d_%H_%M_%S\", localtime())}.pkl', 'wb') as handle:\n",
    "        pickle.dump(label_dict, handle)"
   ]
  },
  {
   "cell_type": "code",
   "execution_count": null,
   "id": "bab7b803-8bfd-47c8-ac9b-c57375114f14",
   "metadata": {
    "tags": []
   },
   "outputs": [],
   "source": [
    "mic_index = 0\n",
    "\n",
    "progress = widgets.HTML(value=f'Current Micrograph: {mic_index+1} / {len(mic_list)}')\n",
    "display(progress)\n",
    "\n",
    "mic_widget = widgets.Image(value=read_png(mic_list[mic_index]),format='png')\n",
    "display(mic_widget)\n",
    "\n",
    "prev_button = widgets.Button(description='Previous')\n",
    "prev_button.on_click(prev_mic)\n",
    "\n",
    "next_button = widgets.Button(description='Next')\n",
    "next_button.on_click(next_mic)\n",
    "\n",
    "display(widgets.HBox([prev_button, next_button]))\n",
    "\n",
    "rad_buttons = [widgets.RadioButtons(options=['no_film','minor_film','major_film','film'],disabled=False),\n",
    "               widgets.RadioButtons(options=['no_crack_drift','crack_drift_empty'],disabled=False),\n",
    "               widgets.RadioButtons(options=['not_crystalline','minor_crystalline','major_crystalline'],disabled=False),\n",
    "               widgets.RadioButtons(options=['minor_contamination','major_contamination'],disabled=False)]\n",
    "for but in rad_buttons:display(but)\n",
    "retrieve_label()\n",
    "\n",
    "save_button = widgets.Button(description='Save')\n",
    "save_button.on_click(save_label)\n",
    "\n",
    "display(save_button)"
   ]
  },
  {
   "cell_type": "code",
   "execution_count": null,
   "id": "3574bd0b-cbb4-4dd0-8ee6-9b66a24ebc39",
   "metadata": {},
   "outputs": [],
   "source": []
  }
 ],
 "metadata": {
  "kernelspec": {
   "display_name": "Python 3 (ipykernel)",
   "language": "python",
   "name": "python3"
  },
  "language_info": {
   "codemirror_mode": {
    "name": "ipython",
    "version": 3
   },
   "file_extension": ".py",
   "mimetype": "text/x-python",
   "name": "python",
   "nbconvert_exporter": "python",
   "pygments_lexer": "ipython3",
   "version": "3.9.16"
  }
 },
 "nbformat": 4,
 "nbformat_minor": 5
}
